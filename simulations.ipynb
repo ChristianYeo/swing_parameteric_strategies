{
 "cells": [
  {
   "cell_type": "code",
   "execution_count": 1,
   "id": "b3422760-fe45-4a56-8623-3f940a9fd417",
   "metadata": {
    "tags": []
   },
   "outputs": [
    {
     "name": "stdout",
     "output_type": "stream",
     "text": [
      "cpu\n"
     ]
    }
   ],
   "source": [
    "import torch\n",
    "import numpy as np\n",
    "from datetime import datetime, timedelta, date\n",
    "\n",
    "# use gpu to increase performance\n",
    "device = torch.device(\"cuda:0\" if torch.cuda.is_available() else \"cpu\")\n",
    "print(device)"
   ]
  },
  {
   "cell_type": "code",
   "execution_count": 2,
   "id": "cd58ef25",
   "metadata": {},
   "outputs": [],
   "source": [
    "import hjm_ln\n",
    "from swing_volume_grid import*\n",
    "from parametric_strategies import nn_strat, pv_strat"
   ]
  },
  {
   "cell_type": "markdown",
   "id": "e12119d2-db42-40c8-b35f-1902c53f2e94",
   "metadata": {},
   "source": [
    "# diffusion model configs"
   ]
  },
  {
   "cell_type": "code",
   "execution_count": 3,
   "id": "365dc71a-2f23-46a9-a18c-156c4fda012d",
   "metadata": {},
   "outputs": [],
   "source": [
    "f0 = 20.0\n",
    "ref_date = datetime(2022, 9, 30)  #datetime(2021, 12, 31)\n",
    "contract_start = datetime(2022, 10, 1) #datetime(2022, 1, 1)\n",
    "contract_end = datetime(2022, 10, 31) #datetime(2022, 12, 31)\n",
    "n_ex_dates = (contract_end - contract_start).days + 1\n",
    "ex_dates = np.array([contract_start + timedelta(days = i) for i in range(n_ex_dates)])"
   ]
  },
  {
   "cell_type": "code",
   "execution_count": 4,
   "id": "7855db9b-6b4f-43b2-8959-1dff32c4b41a",
   "metadata": {},
   "outputs": [],
   "source": [
    "dimension = 1\n",
    "alpha = 4.0 * torch.ones(dimension, device = device)\n",
    "sigma = 0.7 * torch.ones(dimension, device = device)\n",
    "hjm_model = hjm_ln.One_Factor(f0, alpha, sigma, ref_date, ex_dates)\n",
    "\n",
    "# ----> example for multi dim\n",
    "#corr_mat = torch.eye(dimension, device = device)\n",
    "#hjm_model = hjm_ln.Multi_Factor(f0, alpha, sigma, corr_mat, ref_date, ex_dates) # multi_dim (dimension > 1)"
   ]
  },
  {
   "cell_type": "markdown",
   "id": "9c6ae446-bcb6-423c-95ba-c69dc2ea38f7",
   "metadata": {},
   "source": [
    "# swing configs"
   ]
  },
  {
   "cell_type": "code",
   "execution_count": 5,
   "id": "1b90ad57-69b4-4783-b18b-79f678a85a08",
   "metadata": {},
   "outputs": [],
   "source": [
    "Q_min = 140.0 # 1300.0\n",
    "Q_max = 200.0 # 1900.0\n",
    "q_min = 0.0 * torch.ones(len(ex_dates))\n",
    "q_max = 6.0 * torch.ones(len(ex_dates))\n",
    "grid = Volume_Grid(Q_min, Q_max, q_min, q_max, ex_dates)\n",
    "strike_price = 20.0"
   ]
  },
  {
   "cell_type": "markdown",
   "id": "e49bf62a-46bc-4a11-a717-57082d6ac6f5",
   "metadata": {},
   "source": [
    "# optimization configs"
   ]
  },
  {
   "cell_type": "code",
   "execution_count": 6,
   "id": "9aeee970-69e2-44ce-9c5a-1b62ec5bae87",
   "metadata": {},
   "outputs": [],
   "source": [
    "#optim_infos_dict = {\"algo_name\" : \"Adam\", \"nb_batches\" : 1, \"batch_size\" : 16384, \"n_iterations\" : 3000,\n",
    "                    #\"update_infos\" : {\"lr\" : 1e-1, \"amsgrad\" : True},\n",
    "                    #\"transfer_learning\" : {\"activate\" : False, \"n_iter_pre_training\" : 300} \n",
    "                   #}"
   ]
  },
  {
   "cell_type": "code",
   "execution_count": 7,
   "id": "7afdc928-8322-43b6-9cb2-eb087e95df17",
   "metadata": {},
   "outputs": [],
   "source": [
    "optim_infos_dict = {\"algo_name\" : \"pSGLD\", \"nb_batches\" : 1, \"batch_size\" : 16384, \"n_iterations\" : 1000,\n",
    "                    \"update_infos\" : {\"lr\" : 1e-1, \"sigma\": 1e-6, \"beta\": 0.8, \"lambda\": 1e-10},\n",
    "                    \"transfer_learning\" : {\"activate\" : False, \"n_iter_pre_training\" : 300} \n",
    "                   }"
   ]
  },
  {
   "cell_type": "markdown",
   "id": "a91b0f9b-ca70-42dd-8798-9945e975e5eb",
   "metadata": {},
   "source": [
    "# pv_strat"
   ]
  },
  {
   "cell_type": "code",
   "execution_count": 8,
   "id": "92fe66cc-0a17-4e23-be39-4e25c06567c8",
   "metadata": {},
   "outputs": [
    {
     "name": "stdout",
     "output_type": "stream",
     "text": [
      "--- Training time (pv_strat): 39.7 seconds ---\n"
     ]
    },
    {
     "data": {
      "text/plain": [
       "{'swing_price': 64.97,\n",
       " 'var_price': 117046.57,\n",
       " 'swing_price_bang_bang': 64.99,\n",
       " 'var_price_bang_bang': 116982.23}"
      ]
     },
     "execution_count": 8,
     "metadata": {},
     "output_type": "execute_result"
    }
   ],
   "source": [
    "pv_strat.Compute_Swing_Price(hjm_model, optim_infos_dict, grid, strike_price, 50, 100000)"
   ]
  },
  {
   "cell_type": "markdown",
   "id": "79b6aee1-29c1-46cd-a4ee-6c2fad85cff9",
   "metadata": {},
   "source": [
    "# nn_strat"
   ]
  },
  {
   "cell_type": "code",
   "execution_count": 9,
   "id": "7bcc401e-d7fc-4870-8354-c4a27ebcb140",
   "metadata": {},
   "outputs": [],
   "source": [
    "nn_hidden_sizes = [30, 30] # 2 hidden layers with 30 units"
   ]
  },
  {
   "cell_type": "code",
   "execution_count": 10,
   "id": "d2e1d027-f148-49e3-b99a-32598e9b8d5e",
   "metadata": {},
   "outputs": [
    {
     "name": "stdout",
     "output_type": "stream",
     "text": [
      "--- Training time (nn_strat): 484.08 seconds ---\n"
     ]
    },
    {
     "data": {
      "text/plain": [
       "{'swing_price': 65.26,\n",
       " 'var_price': 117130.58,\n",
       " 'swing_price_bang_bang': 65.23,\n",
       " 'var_price_bang_bang': 117128.3}"
      ]
     },
     "execution_count": 10,
     "metadata": {},
     "output_type": "execute_result"
    }
   ],
   "source": [
    "nn_strat.Compute_Swing_Price(hjm_model, nn_hidden_sizes, optim_infos_dict, grid, strike_price, 50, 100000)"
   ]
  },
  {
   "cell_type": "markdown",
   "id": "3f68ed62-5a0d-44ca-9b4a-4d4f2f980d9b",
   "metadata": {},
   "source": [
    "# transfer learning"
   ]
  },
  {
   "cell_type": "code",
   "execution_count": null,
   "id": "4619f910-5827-4ebc-be86-dd3170a7c57d",
   "metadata": {},
   "outputs": [],
   "source": [
    "optim_infos_dict = {\"algo_name\" : \"pSGLD\", \"nb_batches\" : 1, \"batch_size\" : 16384, \"n_iterations\" : 500,\n",
    "                    \"update_infos\" : {\"lr\" : 1e-1, \"sigma\": 1e-6, \"beta\": 0.8, \"lambda\": 1e-10},\n",
    "                    \"transfer_learning\" : {\"activate\" : True, \"n_iter_pre_training\" : 1000} \n",
    "                   }"
   ]
  },
  {
   "cell_type": "code",
   "execution_count": null,
   "id": "2dd2d9e0-b0b8-4335-9608-a5a3c47930d3",
   "metadata": {},
   "outputs": [],
   "source": [
    "pv_strat.Compute_Swing_Price(hjm_model, optim_infos_dict, grid, strike_price, 50, 100000)"
   ]
  },
  {
   "cell_type": "code",
   "execution_count": null,
   "id": "2a4ba985-1b84-47e8-b91d-0ee779ee6590",
   "metadata": {},
   "outputs": [],
   "source": [
    "nn_strat.Compute_Swing_Price(hjm_model, nn_hidden_sizes, optim_infos_dict, grid, strike_price, 50, 100000)"
   ]
  },
  {
   "cell_type": "code",
   "execution_count": null,
   "id": "62bcef9f-130e-4e84-aaa3-6d2344eb8d32",
   "metadata": {},
   "outputs": [],
   "source": []
  }
 ],
 "metadata": {
  "kernelspec": {
   "display_name": "Python 3 (ipykernel)",
   "language": "python",
   "name": "python3"
  },
  "language_info": {
   "codemirror_mode": {
    "name": "ipython",
    "version": 3
   },
   "file_extension": ".py",
   "mimetype": "text/x-python",
   "name": "python",
   "nbconvert_exporter": "python",
   "pygments_lexer": "ipython3",
   "version": "3.9.7"
  }
 },
 "nbformat": 4,
 "nbformat_minor": 5
}
